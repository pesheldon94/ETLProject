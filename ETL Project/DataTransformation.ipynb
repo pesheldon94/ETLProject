{
 "cells": [
  {
   "cell_type": "code",
   "execution_count": 1,
   "metadata": {},
   "outputs": [],
   "source": [
    "import pandas as pd\n",
    "import os\n",
    "import datetime as dt"
   ]
  },
  {
   "cell_type": "code",
   "execution_count": 2,
   "metadata": {},
   "outputs": [],
   "source": [
    "# Filepaths\n",
    "file1 = '/Users/danvaldes/Downloads/mlb-pitch-data-20152018/atbats.csv'\n",
    "file2 = '/Users/danvaldes/Downloads/mlb-pitch-data-20152018/player_names.csv'\n",
    "file3 = '/Users/danvaldes/Downloads/mlb-pitch-data-20152018/pitches.csv'\n",
    "file4 = '/Users/danvaldes/Downloads/mlb-pitch-data-20152018/games.csv'\n",
    "\n",
    "# Reading CSVs to DataFrames\n",
    "at_bats_df = pd.read_csv(file1)\n",
    "player_names_df = pd.read_csv(file2)\n",
    "pitches_df = pd.read_csv(file3)\n",
    "games_df = pd.read_csv(file4)"
   ]
  },
  {
   "cell_type": "code",
   "execution_count": 12,
   "metadata": {},
   "outputs": [],
   "source": [
    "# Joining first_name and last_name columns\n",
    "player_names_df['name'] = player_names_df['first_name'] + ' ' + player_names_df['last_name']\n",
    "player_names_final = player_names_df.drop(['first_name','last_name'], axis =1)\n",
    "\n",
    "# Changing ID column name for merge later\n",
    "player_names_final = player_names_final.rename(columns = {'id':'pitcher_id'});\n",
    "\n",
    "# Dropping the unnecessary pitches_df columns\n",
    "pitches_df = pitches_df[['start_speed','end_speed','spin_rate','break_angle','nasty','pitch_type','ab_id','b_count','s_count','pitch_num','on_1b','on_2b','on_3b']]"
   ]
  },
  {
   "cell_type": "code",
   "execution_count": 4,
   "metadata": {
    "scrolled": true
   },
   "outputs": [],
   "source": [
    "# Dropping unnecessary games_df columns\n",
    "games_df = games_df[['date','g_id']]"
   ]
  },
  {
   "cell_type": "code",
   "execution_count": 5,
   "metadata": {},
   "outputs": [],
   "source": [
    "# Dropping unnecessary at_bats columns\n",
    "at_bats_df = at_bats_df[['ab_id','g_id','p_throws','pitcher_id','stand']]"
   ]
  },
  {
   "cell_type": "code",
   "execution_count": 6,
   "metadata": {},
   "outputs": [],
   "source": [
    "# Merging games_df and at_bats_df to retrieve date\n",
    "at_bats_new = pd.merge(at_bats_df, games_df, on='g_id', how='outer')"
   ]
  },
  {
   "cell_type": "code",
   "execution_count": 45,
   "metadata": {},
   "outputs": [],
   "source": [
    "# Filtering at_bats_df by year, saving only at_bats from 2018 season\n",
    "at_bats_new['date'] = pd.to_datetime(at_bats_new['date'])\n",
    "\n",
    "at_bats_final = at_bats_new[at_bats_new['date'].dt.year == 2018]\n",
    "\n",
    "at_bats_final = at_bats_final[['ab_id', 'p_throws', 'pitcher_id', 'stand']]\n",
    "\n",
    "at_bats_final.head();"
   ]
  },
  {
   "cell_type": "code",
   "execution_count": 44,
   "metadata": {},
   "outputs": [],
   "source": [
    "# Merging pitches and at_bats to create final DataFrame\n",
    "pitches_final = pd.merge(pitches_df, at_bats_final, on='ab_id', how='left')\n",
    "\n",
    "pitches_final = pitches_final.dropna(how='any')\n",
    "\n",
    "pitches_final.head();"
   ]
  },
  {
   "cell_type": "code",
   "execution_count": 37,
   "metadata": {},
   "outputs": [],
   "source": [
    "# Merge player_names with unique pitches table. Now have information on who threw each pitch\n",
    "final_df = pd.merge(pitches_final, player_names_final, on='pitcher_id', how='left')\n",
    "\n",
    "final_df['avg_speed'] = (final_df['start_speed'] + final_df['end_speed']) / 2\n",
    "\n",
    "final_df_organized = final_df[['name','p_throws','pitch_type','avg_speed','spin_rate','break_angle','nasty','ab_id','b_count','s_count','pitch_num','on_1b','on_2b','on_3b','stand',]].\\\n",
    "    sort_values(by='name')"
   ]
  },
  {
   "cell_type": "code",
   "execution_count": 43,
   "metadata": {},
   "outputs": [],
   "source": [
    "final_df_organized;"
   ]
  },
  {
   "cell_type": "code",
   "execution_count": 41,
   "metadata": {},
   "outputs": [],
   "source": [
    "final_df_organized.to_csv('/Users/danvaldes/Desktop/pitches_final.csv', index=False, header=True)"
   ]
  },
  {
   "cell_type": "code",
   "execution_count": null,
   "metadata": {},
   "outputs": [],
   "source": [
    " "
   ]
  }
 ],
 "metadata": {
  "kernelspec": {
   "display_name": "Python 3",
   "language": "python",
   "name": "python3"
  },
  "language_info": {
   "codemirror_mode": {
    "name": "ipython",
    "version": 3
   },
   "file_extension": ".py",
   "mimetype": "text/x-python",
   "name": "python",
   "nbconvert_exporter": "python",
   "pygments_lexer": "ipython3",
   "version": "3.7.3"
  }
 },
 "nbformat": 4,
 "nbformat_minor": 2
}
